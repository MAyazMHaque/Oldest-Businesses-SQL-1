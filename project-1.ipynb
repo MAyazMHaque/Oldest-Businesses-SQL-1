{
    "metadata": {
        "kernelspec": {
            "name": "SQL",
            "display_name": "SQL",
            "language": "sql"
        },
        "language_info": {
            "name": "sql",
            "version": ""
        }
    },
    "nbformat_minor": 2,
    "nbformat": 4,
    "cells": [
        {
            "cell_type": "markdown",
            "source": [
                "**The oldest business in the world**\n",
                "\n",
                "This project is done using the three tables (categories, countries and businesses) these table have acquired by Datacamp guided project. \n",
                "\n",
                "\\*\\*BusinessFinancing.co.uk (\\*\\*researched) the oldest company that is still in business in almost every country and compiled the results into a dataset. In this project, you'll explore that dataset to see what they found. \n",
                "\n",
                "The database contains three tables \n",
                "\n",
                "- categories\n",
                "- countries \n",
                "- businesses\n",
                "\n",
                "THe top 10 rows of each table is shown in the next three cells"
            ],
            "metadata": {
                "azdata_cell_guid": "9f0ff787-caf9-4106-8fd8-d8b96f83f9d2"
            },
            "attachments": {}
        },
        {
            "cell_type": "code",
            "source": [
                "-- countries \r\n",
                "SELECT top 10 *\r\n",
                "FROM countries"
            ],
            "metadata": {
                "azdata_cell_guid": "8b90d0f7-0312-4750-b6a2-dd9417c018d9",
                "language": "sql"
            },
            "outputs": [
                {
                    "output_type": "display_data",
                    "data": {
                        "text/html": "(10 rows affected)"
                    },
                    "metadata": {}
                },
                {
                    "output_type": "display_data",
                    "data": {
                        "text/html": "Total execution time: 00:00:00.038"
                    },
                    "metadata": {}
                },
                {
                    "output_type": "execute_result",
                    "metadata": {},
                    "execution_count": 1,
                    "data": {
                        "application/vnd.dataresource+json": {
                            "schema": {
                                "fields": [
                                    {
                                        "name": "country_code"
                                    },
                                    {
                                        "name": "country"
                                    },
                                    {
                                        "name": "continent"
                                    }
                                ]
                            },
                            "data": [
                                {
                                    "0": "AFG",
                                    "1": "Afghanistan",
                                    "2": "Asia"
                                },
                                {
                                    "0": "AGO",
                                    "1": "Angola",
                                    "2": "Africa"
                                },
                                {
                                    "0": "ALB",
                                    "1": "Albania",
                                    "2": "Europe"
                                },
                                {
                                    "0": "AND",
                                    "1": "Andorra",
                                    "2": "Europe"
                                },
                                {
                                    "0": "ARE",
                                    "1": "United Arab Emirates",
                                    "2": "Asia"
                                },
                                {
                                    "0": "ARG",
                                    "1": "Argentina",
                                    "2": "South America"
                                },
                                {
                                    "0": "ARM",
                                    "1": "Armenia",
                                    "2": "Asia"
                                },
                                {
                                    "0": "ATG",
                                    "1": "Antigua and Barbuda",
                                    "2": "North America"
                                },
                                {
                                    "0": "AUS",
                                    "1": "Australia",
                                    "2": "Oceania"
                                },
                                {
                                    "0": "AUT",
                                    "1": "Austria",
                                    "2": "Europe"
                                }
                            ]
                        },
                        "text/html": [
                            "<table>",
                            "<tr><th>country_code</th><th>country</th><th>continent</th></tr>",
                            "<tr><td>AFG</td><td>Afghanistan</td><td>Asia</td></tr>",
                            "<tr><td>AGO</td><td>Angola</td><td>Africa</td></tr>",
                            "<tr><td>ALB</td><td>Albania</td><td>Europe</td></tr>",
                            "<tr><td>AND</td><td>Andorra</td><td>Europe</td></tr>",
                            "<tr><td>ARE</td><td>United Arab Emirates</td><td>Asia</td></tr>",
                            "<tr><td>ARG</td><td>Argentina</td><td>South America</td></tr>",
                            "<tr><td>ARM</td><td>Armenia</td><td>Asia</td></tr>",
                            "<tr><td>ATG</td><td>Antigua and Barbuda</td><td>North America</td></tr>",
                            "<tr><td>AUS</td><td>Australia</td><td>Oceania</td></tr>",
                            "<tr><td>AUT</td><td>Austria</td><td>Europe</td></tr>",
                            "</table>"
                        ]
                    }
                }
            ],
            "execution_count": 1
        },
        {
            "cell_type": "code",
            "source": [
                "--businesses\r\n",
                "SELECT top 10 *\r\n",
                "FROM businesses"
            ],
            "metadata": {
                "language": "sql",
                "azdata_cell_guid": "56f22d98-aa87-4dc4-92f7-809e9236e28f"
            },
            "outputs": [
                {
                    "output_type": "display_data",
                    "data": {
                        "text/html": "(10 rows affected)"
                    },
                    "metadata": {}
                },
                {
                    "output_type": "display_data",
                    "data": {
                        "text/html": "Total execution time: 00:00:00.003"
                    },
                    "metadata": {}
                },
                {
                    "output_type": "execute_result",
                    "metadata": {},
                    "execution_count": 2,
                    "data": {
                        "application/vnd.dataresource+json": {
                            "schema": {
                                "fields": [
                                    {
                                        "name": "business"
                                    },
                                    {
                                        "name": "year_founded"
                                    },
                                    {
                                        "name": "category_code"
                                    },
                                    {
                                        "name": "country_code"
                                    }
                                ]
                            },
                            "data": [
                                {
                                    "0": "Hamoud Boualem",
                                    "1": "1878",
                                    "2": "CAT11",
                                    "3": "DZA"
                                },
                                {
                                    "0": "CommunautÃ© Ã‰lectrique du BÃ©nin",
                                    "1": "1968",
                                    "2": "CAT10",
                                    "3": "BEN"
                                },
                                {
                                    "0": "Botswana Meat Commission",
                                    "1": "1965",
                                    "2": "CAT1",
                                    "3": "BWA"
                                },
                                {
                                    "0": "Air Burkina",
                                    "1": "1967",
                                    "2": "CAT2",
                                    "3": "BFA"
                                },
                                {
                                    "0": "Brarudi",
                                    "1": "1955",
                                    "2": "CAT9",
                                    "3": "BDI"
                                },
                                {
                                    "0": "Cameroon Development Corporation",
                                    "1": "1947",
                                    "2": "CAT1",
                                    "3": "CMR"
                                },
                                {
                                    "0": "Correios de Cabo Verde",
                                    "1": "1849",
                                    "2": "CAT16",
                                    "3": "CPV"
                                },
                                {
                                    "0": "Banque Internationale pour la Centrafrique",
                                    "1": "1946",
                                    "2": "CAT3",
                                    "3": "CAF"
                                },
                                {
                                    "0": "Cotontchad",
                                    "1": "1971",
                                    "2": "CAT1",
                                    "3": "TCD"
                                },
                                {
                                    "0": "Central Bank of the Comoros",
                                    "1": "1981",
                                    "2": "CAT3",
                                    "3": "COM"
                                }
                            ]
                        },
                        "text/html": [
                            "<table>",
                            "<tr><th>business</th><th>year_founded</th><th>category_code</th><th>country_code</th></tr>",
                            "<tr><td>Hamoud Boualem</td><td>1878</td><td>CAT11</td><td>DZA</td></tr>",
                            "<tr><td>CommunautÃ© Ã‰lectrique du BÃ©nin</td><td>1968</td><td>CAT10</td><td>BEN</td></tr>",
                            "<tr><td>Botswana Meat Commission</td><td>1965</td><td>CAT1</td><td>BWA</td></tr>",
                            "<tr><td>Air Burkina</td><td>1967</td><td>CAT2</td><td>BFA</td></tr>",
                            "<tr><td>Brarudi</td><td>1955</td><td>CAT9</td><td>BDI</td></tr>",
                            "<tr><td>Cameroon Development Corporation</td><td>1947</td><td>CAT1</td><td>CMR</td></tr>",
                            "<tr><td>Correios de Cabo Verde</td><td>1849</td><td>CAT16</td><td>CPV</td></tr>",
                            "<tr><td>Banque Internationale pour la Centrafrique</td><td>1946</td><td>CAT3</td><td>CAF</td></tr>",
                            "<tr><td>Cotontchad</td><td>1971</td><td>CAT1</td><td>TCD</td></tr>",
                            "<tr><td>Central Bank of the Comoros</td><td>1981</td><td>CAT3</td><td>COM</td></tr>",
                            "</table>"
                        ]
                    }
                }
            ],
            "execution_count": 2
        },
        {
            "cell_type": "code",
            "source": [
                "-- catogories\r\n",
                "SELECT top 10 *\r\n",
                "FROM categories"
            ],
            "metadata": {
                "azdata_cell_guid": "b83aeaba-769c-49d8-a193-6609128bb822",
                "language": "sql"
            },
            "outputs": [
                {
                    "output_type": "display_data",
                    "data": {
                        "text/html": "(10 rows affected)"
                    },
                    "metadata": {}
                },
                {
                    "output_type": "display_data",
                    "data": {
                        "text/html": "Total execution time: 00:00:00.003"
                    },
                    "metadata": {}
                },
                {
                    "output_type": "execute_result",
                    "metadata": {},
                    "execution_count": 4,
                    "data": {
                        "application/vnd.dataresource+json": {
                            "schema": {
                                "fields": [
                                    {
                                        "name": "category_code"
                                    },
                                    {
                                        "name": "category"
                                    }
                                ]
                            },
                            "data": [
                                {
                                    "0": "CAT1",
                                    "1": "Agriculture"
                                },
                                {
                                    "0": "CAT10",
                                    "1": "Energy"
                                },
                                {
                                    "0": "CAT11",
                                    "1": "Food & Beverages"
                                },
                                {
                                    "0": "CAT12",
                                    "1": "Manufacturing & Production"
                                },
                                {
                                    "0": "CAT13",
                                    "1": "Media"
                                },
                                {
                                    "0": "CAT14",
                                    "1": "Medical"
                                },
                                {
                                    "0": "CAT15",
                                    "1": "Mining"
                                },
                                {
                                    "0": "CAT16",
                                    "1": "Postal Service"
                                },
                                {
                                    "0": "CAT17",
                                    "1": "Retail"
                                },
                                {
                                    "0": "CAT18",
                                    "1": "Telecommunications"
                                }
                            ]
                        },
                        "text/html": [
                            "<table>",
                            "<tr><th>category_code</th><th>category</th></tr>",
                            "<tr><td>CAT1</td><td>Agriculture</td></tr>",
                            "<tr><td>CAT10</td><td>Energy</td></tr>",
                            "<tr><td>CAT11</td><td>Food &amp; Beverages</td></tr>",
                            "<tr><td>CAT12</td><td>Manufacturing &amp; Production</td></tr>",
                            "<tr><td>CAT13</td><td>Media</td></tr>",
                            "<tr><td>CAT14</td><td>Medical</td></tr>",
                            "<tr><td>CAT15</td><td>Mining</td></tr>",
                            "<tr><td>CAT16</td><td>Postal Service</td></tr>",
                            "<tr><td>CAT17</td><td>Retail</td></tr>",
                            "<tr><td>CAT18</td><td>Telecommunications</td></tr>",
                            "</table>"
                        ]
                    }
                }
            ],
            "execution_count": 4
        },
        {
            "cell_type": "markdown",
            "source": [
                "Let's find out the oldest and newest founded business in the dataset"
            ],
            "metadata": {
                "language": "sql",
                "azdata_cell_guid": "c6b48316-fba3-4597-8242-cb25eec6e0e1"
            },
            "attachments": {}
        },
        {
            "cell_type": "code",
            "source": [
                "SELECT min(year_founded) AS Oldest,\r\n",
                "       max(year_founded) AS Youngest \r\n",
                "FROM businesses"
            ],
            "metadata": {
                "azdata_cell_guid": "3fb87e6e-d417-4936-ad03-891c0b25e4d3",
                "language": "sql"
            },
            "outputs": [
                {
                    "output_type": "display_data",
                    "data": {
                        "text/html": "(1 row affected)"
                    },
                    "metadata": {}
                },
                {
                    "output_type": "display_data",
                    "data": {
                        "text/html": "Total execution time: 00:00:00.004"
                    },
                    "metadata": {}
                },
                {
                    "output_type": "execute_result",
                    "metadata": {},
                    "execution_count": 7,
                    "data": {
                        "application/vnd.dataresource+json": {
                            "schema": {
                                "fields": [
                                    {
                                        "name": "Oldest"
                                    },
                                    {
                                        "name": "Youngest"
                                    }
                                ]
                            },
                            "data": [
                                {
                                    "0": "1040",
                                    "1": "900"
                                }
                            ]
                        },
                        "text/html": [
                            "<table>",
                            "<tr><th>Oldest</th><th>Youngest</th></tr>",
                            "<tr><td>1040</td><td>900</td></tr>",
                            "</table>"
                        ]
                    }
                }
            ],
            "execution_count": 7
        },
        {
            "cell_type": "markdown",
            "source": [
                "**How many businesses were founded before 1000?**"
            ],
            "metadata": {
                "language": "sql",
                "azdata_cell_guid": "977b1a4a-c363-44f9-a5c9-e69d1070a52a"
            },
            "attachments": {}
        },
        {
            "cell_type": "code",
            "source": [
                "SELECT count(business) AS 'No of business before 1000 AD'\r\n",
                "FROM businesses\r\n",
                "WHERE year_founded < 1000"
            ],
            "metadata": {
                "azdata_cell_guid": "3f01a873-140e-459e-8f8e-346b16af602b",
                "language": "sql"
            },
            "outputs": [
                {
                    "output_type": "display_data",
                    "data": {
                        "text/html": "(1 row affected)"
                    },
                    "metadata": {}
                },
                {
                    "output_type": "display_data",
                    "data": {
                        "text/html": "Total execution time: 00:00:00.002"
                    },
                    "metadata": {}
                },
                {
                    "output_type": "execute_result",
                    "metadata": {},
                    "execution_count": 11,
                    "data": {
                        "application/vnd.dataresource+json": {
                            "schema": {
                                "fields": [
                                    {
                                        "name": "No of business before 1000 AD"
                                    }
                                ]
                            },
                            "data": [
                                {
                                    "0": "6"
                                }
                            ]
                        },
                        "text/html": [
                            "<table>",
                            "<tr><th>No of business before 1000 AD</th></tr>",
                            "<tr><td>6</td></tr>",
                            "</table>"
                        ]
                    }
                }
            ],
            "execution_count": 11
        },
        {
            "cell_type": "markdown",
            "source": [
                "**Which businesses were founded before 1000 AD**"
            ],
            "metadata": {
                "language": "sql",
                "azdata_cell_guid": "836d9c36-0d39-40c2-a16b-757379de7177"
            },
            "attachments": {}
        },
        {
            "cell_type": "code",
            "source": [
                "SELECT *\r\n",
                "FROM businesses\r\n",
                "WHERE year_founded < 1000\r\n",
                "ORDER BY year_founded"
            ],
            "metadata": {
                "azdata_cell_guid": "68a83283-3a40-4d32-ab75-19eb0c916423",
                "language": "sql",
                "tags": []
            },
            "outputs": [
                {
                    "output_type": "display_data",
                    "data": {
                        "text/html": "(6 rows affected)"
                    },
                    "metadata": {}
                },
                {
                    "output_type": "display_data",
                    "data": {
                        "text/html": "Total execution time: 00:00:00.003"
                    },
                    "metadata": {}
                },
                {
                    "output_type": "execute_result",
                    "metadata": {},
                    "execution_count": 12,
                    "data": {
                        "application/vnd.dataresource+json": {
                            "schema": {
                                "fields": [
                                    {
                                        "name": "business"
                                    },
                                    {
                                        "name": "year_founded"
                                    },
                                    {
                                        "name": "category_code"
                                    },
                                    {
                                        "name": "country_code"
                                    }
                                ]
                            },
                            "data": [
                                {
                                    "0": "KongÅ Gumi",
                                    "1": "578",
                                    "2": "CAT6",
                                    "3": "JPN"
                                },
                                {
                                    "0": "St. Peter Stifts Kulinarium",
                                    "1": "803",
                                    "2": "CAT4",
                                    "3": "AUT"
                                },
                                {
                                    "0": "StaffelterÂ Hof Winery",
                                    "1": "862",
                                    "2": "CAT9",
                                    "3": "DEU"
                                },
                                {
                                    "0": "Monnaie de ParisÂ ",
                                    "1": "864",
                                    "2": "CAT12",
                                    "3": "FRA"
                                },
                                {
                                    "0": "The Royal Mint",
                                    "1": "886",
                                    "2": "CAT12",
                                    "3": "GBR"
                                },
                                {
                                    "0": "Sean's Bar",
                                    "1": "900",
                                    "2": "CAT4",
                                    "3": "IRL"
                                }
                            ]
                        },
                        "text/html": [
                            "<table>",
                            "<tr><th>business</th><th>year_founded</th><th>category_code</th><th>country_code</th></tr>",
                            "<tr><td>KongÅ Gumi</td><td>578</td><td>CAT6</td><td>JPN</td></tr>",
                            "<tr><td>St. Peter Stifts Kulinarium</td><td>803</td><td>CAT4</td><td>AUT</td></tr>",
                            "<tr><td>StaffelterÂ Hof Winery</td><td>862</td><td>CAT9</td><td>DEU</td></tr>",
                            "<tr><td>Monnaie de ParisÂ </td><td>864</td><td>CAT12</td><td>FRA</td></tr>",
                            "<tr><td>The Royal Mint</td><td>886</td><td>CAT12</td><td>GBR</td></tr>",
                            "<tr><td>Sean's Bar</td><td>900</td><td>CAT4</td><td>IRL</td></tr>",
                            "</table>"
                        ]
                    }
                }
            ],
            "execution_count": 12
        },
        {
            "cell_type": "markdown",
            "source": [
                "**Exploring the categories**"
            ],
            "metadata": {
                "azdata_cell_guid": "8a16742f-35b0-4667-8864-164284c0e2b3"
            },
            "attachments": {}
        },
        {
            "cell_type": "code",
            "source": [
                "SELECT b.business, b.year_founded, b.country_code, c.category \r\n",
                "FROM businesses AS b\r\n",
                "JOIN categories AS c \r\n",
                "ON b.category_code = c.category_code\r\n",
                "WHERE b.year_founded < 1000\r\n",
                "ORDER BY b.year_founded"
            ],
            "metadata": {
                "azdata_cell_guid": "c321fd67-c3cf-44ff-8aec-f3230077ec86",
                "language": "sql"
            },
            "outputs": [
                {
                    "output_type": "display_data",
                    "data": {
                        "text/html": "(6 rows affected)"
                    },
                    "metadata": {}
                },
                {
                    "output_type": "display_data",
                    "data": {
                        "text/html": "Total execution time: 00:00:00.006"
                    },
                    "metadata": {}
                },
                {
                    "output_type": "execute_result",
                    "metadata": {},
                    "execution_count": 13,
                    "data": {
                        "application/vnd.dataresource+json": {
                            "schema": {
                                "fields": [
                                    {
                                        "name": "business"
                                    },
                                    {
                                        "name": "year_founded"
                                    },
                                    {
                                        "name": "country_code"
                                    },
                                    {
                                        "name": "category"
                                    }
                                ]
                            },
                            "data": [
                                {
                                    "0": "KongÅ Gumi",
                                    "1": "578",
                                    "2": "JPN",
                                    "3": "Construction"
                                },
                                {
                                    "0": "St. Peter Stifts Kulinarium",
                                    "1": "803",
                                    "2": "AUT",
                                    "3": "Cafés, Restaurants & Bars"
                                },
                                {
                                    "0": "StaffelterÂ Hof Winery",
                                    "1": "862",
                                    "2": "DEU",
                                    "3": "Distillers, Vintners, & Breweries"
                                },
                                {
                                    "0": "Monnaie de ParisÂ ",
                                    "1": "864",
                                    "2": "FRA",
                                    "3": "Manufacturing & Production"
                                },
                                {
                                    "0": "The Royal Mint",
                                    "1": "886",
                                    "2": "GBR",
                                    "3": "Manufacturing & Production"
                                },
                                {
                                    "0": "Sean's Bar",
                                    "1": "900",
                                    "2": "IRL",
                                    "3": "Cafés, Restaurants & Bars"
                                }
                            ]
                        },
                        "text/html": [
                            "<table>",
                            "<tr><th>business</th><th>year_founded</th><th>country_code</th><th>category</th></tr>",
                            "<tr><td>KongÅ Gumi</td><td>578</td><td>JPN</td><td>Construction</td></tr>",
                            "<tr><td>St. Peter Stifts Kulinarium</td><td>803</td><td>AUT</td><td>Cafés, Restaurants &amp; Bars</td></tr>",
                            "<tr><td>StaffelterÂ Hof Winery</td><td>862</td><td>DEU</td><td>Distillers, Vintners, &amp; Breweries</td></tr>",
                            "<tr><td>Monnaie de ParisÂ </td><td>864</td><td>FRA</td><td>Manufacturing &amp; Production</td></tr>",
                            "<tr><td>The Royal Mint</td><td>886</td><td>GBR</td><td>Manufacturing &amp; Production</td></tr>",
                            "<tr><td>Sean's Bar</td><td>900</td><td>IRL</td><td>Cafés, Restaurants &amp; Bars</td></tr>",
                            "</table>"
                        ]
                    }
                }
            ],
            "execution_count": 13
        },
        {
            "cell_type": "markdown",
            "source": [
                "**Counting the categories**"
            ],
            "metadata": {
                "azdata_cell_guid": "f63f6975-709c-4fcf-b905-50e028f965c0"
            },
            "attachments": {}
        },
        {
            "cell_type": "code",
            "source": [
                "SELECT top 10 category, count(b.business) AS 'No. of Business'\r\n",
                "FROM categories AS c\r\n",
                "JOIN businesses AS b\r\n",
                "ON c.category_code = b.category_code\r\n",
                "GROUP BY c.category\r\n",
                "ORDER BY count(b.business) desc"
            ],
            "metadata": {
                "azdata_cell_guid": "62dde5a1-fcff-4c65-90b7-b6ff69d1837c",
                "language": "sql"
            },
            "outputs": [
                {
                    "output_type": "display_data",
                    "data": {
                        "text/html": "(10 rows affected)"
                    },
                    "metadata": {}
                },
                {
                    "output_type": "display_data",
                    "data": {
                        "text/html": "Total execution time: 00:00:00.006"
                    },
                    "metadata": {}
                },
                {
                    "output_type": "execute_result",
                    "metadata": {},
                    "execution_count": 16,
                    "data": {
                        "application/vnd.dataresource+json": {
                            "schema": {
                                "fields": [
                                    {
                                        "name": "category"
                                    },
                                    {
                                        "name": "No. of Business"
                                    }
                                ]
                            },
                            "data": [
                                {
                                    "0": "Banking & Finance",
                                    "1": "37"
                                },
                                {
                                    "0": "Distillers, Vintners, & Breweries",
                                    "1": "22"
                                },
                                {
                                    "0": "Aviation & Transport",
                                    "1": "19"
                                },
                                {
                                    "0": "Postal Service",
                                    "1": "16"
                                },
                                {
                                    "0": "Manufacturing & Production",
                                    "1": "15"
                                },
                                {
                                    "0": "Media",
                                    "1": "7"
                                },
                                {
                                    "0": "Agriculture",
                                    "1": "6"
                                },
                                {
                                    "0": "Cafés, Restaurants & Bars",
                                    "1": "6"
                                },
                                {
                                    "0": "Food & Beverages",
                                    "1": "6"
                                },
                                {
                                    "0": "Energy",
                                    "1": "4"
                                }
                            ]
                        },
                        "text/html": [
                            "<table>",
                            "<tr><th>category</th><th>No. of Business</th></tr>",
                            "<tr><td>Banking &amp; Finance</td><td>37</td></tr>",
                            "<tr><td>Distillers, Vintners, &amp; Breweries</td><td>22</td></tr>",
                            "<tr><td>Aviation &amp; Transport</td><td>19</td></tr>",
                            "<tr><td>Postal Service</td><td>16</td></tr>",
                            "<tr><td>Manufacturing &amp; Production</td><td>15</td></tr>",
                            "<tr><td>Media</td><td>7</td></tr>",
                            "<tr><td>Agriculture</td><td>6</td></tr>",
                            "<tr><td>Cafés, Restaurants &amp; Bars</td><td>6</td></tr>",
                            "<tr><td>Food &amp; Beverages</td><td>6</td></tr>",
                            "<tr><td>Energy</td><td>4</td></tr>",
                            "</table>"
                        ]
                    }
                }
            ],
            "execution_count": 16
        },
        {
            "cell_type": "markdown",
            "source": [
                "**Oldest business by continent**"
            ],
            "metadata": {
                "azdata_cell_guid": "2cd2356f-a18b-492d-80fe-d4c1ce69df7c"
            },
            "attachments": {}
        },
        {
            "cell_type": "code",
            "source": [
                "SELECT min(b.year_founded) AS oldest, c.continent\r\n",
                "FROM businesses AS b \r\n",
                "JOIN countries AS c \r\n",
                "ON c.country_code = b.country_code\r\n",
                "GROUP BY c.continent\r\n",
                "ORDER BY oldest"
            ],
            "metadata": {
                "azdata_cell_guid": "9af3568a-2e0b-4664-bfd6-7bd8737fd919",
                "language": "sql",
                "tags": []
            },
            "outputs": [
                {
                    "output_type": "display_data",
                    "data": {
                        "text/html": "(6 rows affected)"
                    },
                    "metadata": {}
                },
                {
                    "output_type": "display_data",
                    "data": {
                        "text/html": "Total execution time: 00:00:00.008"
                    },
                    "metadata": {}
                },
                {
                    "output_type": "execute_result",
                    "metadata": {},
                    "execution_count": 17,
                    "data": {
                        "application/vnd.dataresource+json": {
                            "schema": {
                                "fields": [
                                    {
                                        "name": "oldest"
                                    },
                                    {
                                        "name": "continent"
                                    }
                                ]
                            },
                            "data": [
                                {
                                    "0": "1040",
                                    "1": "Europe"
                                },
                                {
                                    "0": "1153",
                                    "1": "Asia"
                                },
                                {
                                    "0": "1534",
                                    "1": "North America"
                                },
                                {
                                    "0": "1565",
                                    "1": "South America"
                                },
                                {
                                    "0": "1772",
                                    "1": "Africa"
                                },
                                {
                                    "0": "1809",
                                    "1": "Oceania"
                                }
                            ]
                        },
                        "text/html": [
                            "<table>",
                            "<tr><th>oldest</th><th>continent</th></tr>",
                            "<tr><td>1040</td><td>Europe</td></tr>",
                            "<tr><td>1153</td><td>Asia</td></tr>",
                            "<tr><td>1534</td><td>North America</td></tr>",
                            "<tr><td>1565</td><td>South America</td></tr>",
                            "<tr><td>1772</td><td>Africa</td></tr>",
                            "<tr><td>1809</td><td>Oceania</td></tr>",
                            "</table>"
                        ]
                    }
                }
            ],
            "execution_count": 17
        },
        {
            "cell_type": "markdown",
            "source": [
                "**Joining everthing for further analysis**"
            ],
            "metadata": {
                "azdata_cell_guid": "d2183870-fba5-47dc-b384-f464d6eb1dd9"
            },
            "attachments": {}
        },
        {
            "cell_type": "code",
            "source": [
                "SELECT top 10 business,\r\n",
                "    year_founded,\r\n",
                "    category,\r\n",
                "    country,\r\n",
                "    continent\r\n",
                "FROM businesses AS b \r\n",
                "INNER JOIN countries AS co\r\n",
                "    ON b.country_code = co.country_code\r\n",
                "INNER JOIN categories AS ca\r\n",
                "    ON b.category_code = ca.category_code"
            ],
            "metadata": {
                "azdata_cell_guid": "fd199e9a-f3da-4983-aa9e-864bccb9a88e",
                "language": "sql"
            },
            "outputs": [
                {
                    "output_type": "display_data",
                    "data": {
                        "text/html": "(10 rows affected)"
                    },
                    "metadata": {}
                },
                {
                    "output_type": "display_data",
                    "data": {
                        "text/html": "Total execution time: 00:00:00.007"
                    },
                    "metadata": {}
                },
                {
                    "output_type": "execute_result",
                    "metadata": {},
                    "execution_count": 19,
                    "data": {
                        "application/vnd.dataresource+json": {
                            "schema": {
                                "fields": [
                                    {
                                        "name": "business"
                                    },
                                    {
                                        "name": "year_founded"
                                    },
                                    {
                                        "name": "category"
                                    },
                                    {
                                        "name": "country"
                                    },
                                    {
                                        "name": "continent"
                                    }
                                ]
                            },
                            "data": [
                                {
                                    "0": "Hamoud Boualem",
                                    "1": "1878",
                                    "2": "Food & Beverages",
                                    "3": "Algeria",
                                    "4": "Africa"
                                },
                                {
                                    "0": "CommunautÃ© Ã‰lectrique du BÃ©nin",
                                    "1": "1968",
                                    "2": "Energy",
                                    "3": "Benin",
                                    "4": "Africa"
                                },
                                {
                                    "0": "Botswana Meat Commission",
                                    "1": "1965",
                                    "2": "Agriculture",
                                    "3": "Botswana",
                                    "4": "Africa"
                                },
                                {
                                    "0": "Air Burkina",
                                    "1": "1967",
                                    "2": "Aviation & Transport",
                                    "3": "Burkina Faso",
                                    "4": "Africa"
                                },
                                {
                                    "0": "Brarudi",
                                    "1": "1955",
                                    "2": "Distillers, Vintners, & Breweries",
                                    "3": "Burundi",
                                    "4": "Africa"
                                },
                                {
                                    "0": "Cameroon Development Corporation",
                                    "1": "1947",
                                    "2": "Agriculture",
                                    "3": "Cameroon",
                                    "4": "Africa"
                                },
                                {
                                    "0": "Correios de Cabo Verde",
                                    "1": "1849",
                                    "2": "Postal Service",
                                    "3": "Cabo Verde",
                                    "4": "Africa"
                                },
                                {
                                    "0": "Banque Internationale pour la Centrafrique",
                                    "1": "1946",
                                    "2": "Banking & Finance",
                                    "3": "Central African Republic",
                                    "4": "Africa"
                                },
                                {
                                    "0": "Cotontchad",
                                    "1": "1971",
                                    "2": "Agriculture",
                                    "3": "Chad",
                                    "4": "Africa"
                                },
                                {
                                    "0": "Central Bank of the Comoros",
                                    "1": "1981",
                                    "2": "Banking & Finance",
                                    "3": "Comoros",
                                    "4": "Africa"
                                }
                            ]
                        },
                        "text/html": [
                            "<table>",
                            "<tr><th>business</th><th>year_founded</th><th>category</th><th>country</th><th>continent</th></tr>",
                            "<tr><td>Hamoud Boualem</td><td>1878</td><td>Food &amp; Beverages</td><td>Algeria</td><td>Africa</td></tr>",
                            "<tr><td>CommunautÃ© Ã‰lectrique du BÃ©nin</td><td>1968</td><td>Energy</td><td>Benin</td><td>Africa</td></tr>",
                            "<tr><td>Botswana Meat Commission</td><td>1965</td><td>Agriculture</td><td>Botswana</td><td>Africa</td></tr>",
                            "<tr><td>Air Burkina</td><td>1967</td><td>Aviation &amp; Transport</td><td>Burkina Faso</td><td>Africa</td></tr>",
                            "<tr><td>Brarudi</td><td>1955</td><td>Distillers, Vintners, &amp; Breweries</td><td>Burundi</td><td>Africa</td></tr>",
                            "<tr><td>Cameroon Development Corporation</td><td>1947</td><td>Agriculture</td><td>Cameroon</td><td>Africa</td></tr>",
                            "<tr><td>Correios de Cabo Verde</td><td>1849</td><td>Postal Service</td><td>Cabo Verde</td><td>Africa</td></tr>",
                            "<tr><td>Banque Internationale pour la Centrafrique</td><td>1946</td><td>Banking &amp; Finance</td><td>Central African Republic</td><td>Africa</td></tr>",
                            "<tr><td>Cotontchad</td><td>1971</td><td>Agriculture</td><td>Chad</td><td>Africa</td></tr>",
                            "<tr><td>Central Bank of the Comoros</td><td>1981</td><td>Banking &amp; Finance</td><td>Comoros</td><td>Africa</td></tr>",
                            "</table>"
                        ]
                    }
                }
            ],
            "execution_count": 19
        },
        {
            "cell_type": "markdown",
            "source": [
                "**Counting categories by continent Top 10 only**"
            ],
            "metadata": {
                "azdata_cell_guid": "91d9b8af-03cd-48be-a4b4-1a35f3baa3e6"
            },
            "attachments": {}
        },
        {
            "cell_type": "code",
            "source": [
                "SELECT \r\n",
                "    TOP 10\r\n",
                "    co.continent,\r\n",
                "    ca.category,\r\n",
                "    count(b.business) AS n\r\n",
                "FROM businesses AS b \r\n",
                "INNER JOIN countries AS co\r\n",
                "    ON b.country_code = co.country_code\r\n",
                "INNER JOIN categories AS ca\r\n",
                "    ON b.category_code = ca.category_code\r\n",
                "GROUP BY co.continent, ca.category\r\n",
                "ORDER BY n DESC\r\n",
                ""
            ],
            "metadata": {
                "azdata_cell_guid": "0eca3ff6-f955-4f0f-b021-550a64e0bc71",
                "language": "sql"
            },
            "outputs": [
                {
                    "output_type": "display_data",
                    "data": {
                        "text/html": "(10 rows affected)"
                    },
                    "metadata": {}
                },
                {
                    "output_type": "display_data",
                    "data": {
                        "text/html": "Total execution time: 00:00:00.007"
                    },
                    "metadata": {}
                },
                {
                    "output_type": "execute_result",
                    "metadata": {},
                    "execution_count": 26,
                    "data": {
                        "application/vnd.dataresource+json": {
                            "schema": {
                                "fields": [
                                    {
                                        "name": "continent"
                                    },
                                    {
                                        "name": "category"
                                    },
                                    {
                                        "name": "n"
                                    }
                                ]
                            },
                            "data": [
                                {
                                    "0": "Africa",
                                    "1": "Banking & Finance",
                                    "2": "17"
                                },
                                {
                                    "0": "Europe",
                                    "1": "Distillers, Vintners, & Breweries",
                                    "2": "12"
                                },
                                {
                                    "0": "Africa",
                                    "1": "Aviation & Transport",
                                    "2": "10"
                                },
                                {
                                    "0": "Africa",
                                    "1": "Postal Service",
                                    "2": "9"
                                },
                                {
                                    "0": "Europe",
                                    "1": "Manufacturing & Production",
                                    "2": "8"
                                },
                                {
                                    "0": "Asia",
                                    "1": "Aviation & Transport",
                                    "2": "7"
                                },
                                {
                                    "0": "Asia",
                                    "1": "Banking & Finance",
                                    "2": "6"
                                },
                                {
                                    "0": "Europe",
                                    "1": "Banking & Finance",
                                    "2": "5"
                                },
                                {
                                    "0": "North America",
                                    "1": "Distillers, Vintners, & Breweries",
                                    "2": "5"
                                },
                                {
                                    "0": "North America",
                                    "1": "Banking & Finance",
                                    "2": "4"
                                }
                            ]
                        },
                        "text/html": [
                            "<table>",
                            "<tr><th>continent</th><th>category</th><th>n</th></tr>",
                            "<tr><td>Africa</td><td>Banking &amp; Finance</td><td>17</td></tr>",
                            "<tr><td>Europe</td><td>Distillers, Vintners, &amp; Breweries</td><td>12</td></tr>",
                            "<tr><td>Africa</td><td>Aviation &amp; Transport</td><td>10</td></tr>",
                            "<tr><td>Africa</td><td>Postal Service</td><td>9</td></tr>",
                            "<tr><td>Europe</td><td>Manufacturing &amp; Production</td><td>8</td></tr>",
                            "<tr><td>Asia</td><td>Aviation &amp; Transport</td><td>7</td></tr>",
                            "<tr><td>Asia</td><td>Banking &amp; Finance</td><td>6</td></tr>",
                            "<tr><td>Europe</td><td>Banking &amp; Finance</td><td>5</td></tr>",
                            "<tr><td>North America</td><td>Distillers, Vintners, &amp; Breweries</td><td>5</td></tr>",
                            "<tr><td>North America</td><td>Banking &amp; Finance</td><td>4</td></tr>",
                            "</table>"
                        ]
                    }
                }
            ],
            "execution_count": 26
        },
        {
            "cell_type": "markdown",
            "source": [
                "**Filtering counts by continent and categories**"
            ],
            "metadata": {
                "azdata_cell_guid": "6772fbe6-b0d9-4b35-b62d-6cbf07802f0e"
            },
            "attachments": {}
        },
        {
            "cell_type": "code",
            "source": [
                "SELECT \r\n",
                "    co.continent,\r\n",
                "    ca.category,\r\n",
                "    count(b.business) AS n\r\n",
                "FROM businesses AS b \r\n",
                "INNER JOIN countries AS co\r\n",
                "    ON b.country_code = co.country_code\r\n",
                "INNER JOIN categories AS ca\r\n",
                "    ON b.category_code = ca.category_code\r\n",
                "GROUP BY co.continent, ca.category\r\n",
                "ORDER BY n DESC"
            ],
            "metadata": {
                "azdata_cell_guid": "9289dcd3-fded-4eb7-9443-3888553f18ac",
                "language": "sql"
            },
            "outputs": [
                {
                    "output_type": "display_data",
                    "data": {
                        "text/html": "(56 rows affected)"
                    },
                    "metadata": {}
                },
                {
                    "output_type": "display_data",
                    "data": {
                        "text/html": "Total execution time: 00:00:00.006"
                    },
                    "metadata": {}
                },
                {
                    "output_type": "execute_result",
                    "metadata": {},
                    "execution_count": 27,
                    "data": {
                        "application/vnd.dataresource+json": {
                            "schema": {
                                "fields": [
                                    {
                                        "name": "continent"
                                    },
                                    {
                                        "name": "category"
                                    },
                                    {
                                        "name": "n"
                                    }
                                ]
                            },
                            "data": [
                                {
                                    "0": "Africa",
                                    "1": "Banking & Finance",
                                    "2": "17"
                                },
                                {
                                    "0": "Europe",
                                    "1": "Distillers, Vintners, & Breweries",
                                    "2": "12"
                                },
                                {
                                    "0": "Africa",
                                    "1": "Aviation & Transport",
                                    "2": "10"
                                },
                                {
                                    "0": "Africa",
                                    "1": "Postal Service",
                                    "2": "9"
                                },
                                {
                                    "0": "Europe",
                                    "1": "Manufacturing & Production",
                                    "2": "8"
                                },
                                {
                                    "0": "Asia",
                                    "1": "Aviation & Transport",
                                    "2": "7"
                                },
                                {
                                    "0": "Asia",
                                    "1": "Banking & Finance",
                                    "2": "6"
                                },
                                {
                                    "0": "Europe",
                                    "1": "Banking & Finance",
                                    "2": "5"
                                },
                                {
                                    "0": "North America",
                                    "1": "Distillers, Vintners, & Breweries",
                                    "2": "5"
                                },
                                {
                                    "0": "North America",
                                    "1": "Banking & Finance",
                                    "2": "4"
                                },
                                {
                                    "0": "Africa",
                                    "1": "Media",
                                    "2": "4"
                                },
                                {
                                    "0": "Europe",
                                    "1": "Postal Service",
                                    "2": "4"
                                },
                                {
                                    "0": "Asia",
                                    "1": "Manufacturing & Production",
                                    "2": "3"
                                },
                                {
                                    "0": "Asia",
                                    "1": "Retail",
                                    "2": "3"
                                },
                                {
                                    "0": "Africa",
                                    "1": "Agriculture",
                                    "2": "3"
                                },
                                {
                                    "0": "Asia",
                                    "1": "Conglomerate",
                                    "2": "3"
                                },
                                {
                                    "0": "South America",
                                    "1": "Banking & Finance",
                                    "2": "3"
                                },
                                {
                                    "0": "Asia",
                                    "1": "Cafés, Restaurants & Bars",
                                    "2": "3"
                                },
                                {
                                    "0": "Africa",
                                    "1": "Distillers, Vintners, & Breweries",
                                    "2": "3"
                                },
                                {
                                    "0": "Europe",
                                    "1": "Consumer Goods",
                                    "2": "3"
                                },
                                {
                                    "0": "Asia",
                                    "1": "Energy",
                                    "2": "3"
                                },
                                {
                                    "0": "Asia",
                                    "1": "Food & Beverages",
                                    "2": "2"
                                },
                                {
                                    "0": "South America",
                                    "1": "Food & Beverages",
                                    "2": "2"
                                },
                                {
                                    "0": "Asia",
                                    "1": "Distillers, Vintners, & Breweries",
                                    "2": "2"
                                },
                                {
                                    "0": "Europe",
                                    "1": "Cafés, Restaurants & Bars",
                                    "2": "2"
                                },
                                {
                                    "0": "Asia",
                                    "1": "Construction",
                                    "2": "2"
                                },
                                {
                                    "0": "North America",
                                    "1": "Aviation & Transport",
                                    "2": "2"
                                },
                                {
                                    "0": "Oceania",
                                    "1": "Banking & Finance",
                                    "2": "2"
                                },
                                {
                                    "0": "South America",
                                    "1": "Manufacturing & Production",
                                    "2": "2"
                                },
                                {
                                    "0": "Asia",
                                    "1": "Postal Service",
                                    "2": "2"
                                },
                                {
                                    "0": "Europe",
                                    "1": "Tourism & Hotels",
                                    "2": "2"
                                },
                                {
                                    "0": "North America",
                                    "1": "Tourism & Hotels",
                                    "2": "1"
                                },
                                {
                                    "0": "Oceania",
                                    "1": "Postal Service",
                                    "2": "1"
                                },
                                {
                                    "0": "North America",
                                    "1": "Retail",
                                    "2": "1"
                                },
                                {
                                    "0": "Asia",
                                    "1": "Telecommunications",
                                    "2": "1"
                                },
                                {
                                    "0": "Europe",
                                    "1": "Telecommunications",
                                    "2": "1"
                                },
                                {
                                    "0": "Asia",
                                    "1": "Tourism & Hotels",
                                    "2": "1"
                                },
                                {
                                    "0": "Asia",
                                    "1": "Media",
                                    "2": "1"
                                },
                                {
                                    "0": "Europe",
                                    "1": "Media",
                                    "2": "1"
                                },
                                {
                                    "0": "North America",
                                    "1": "Media",
                                    "2": "1"
                                },
                                {
                                    "0": "Europe",
                                    "1": "Medical",
                                    "2": "1"
                                },
                                {
                                    "0": "Africa",
                                    "1": "Mining",
                                    "2": "1"
                                },
                                {
                                    "0": "Asia",
                                    "1": "Mining",
                                    "2": "1"
                                },
                                {
                                    "0": "Europe",
                                    "1": "Mining",
                                    "2": "1"
                                },
                                {
                                    "0": "Asia",
                                    "1": "Agriculture",
                                    "2": "1"
                                },
                                {
                                    "0": "Europe",
                                    "1": "Agriculture",
                                    "2": "1"
                                },
                                {
                                    "0": "North America",
                                    "1": "Agriculture",
                                    "2": "1"
                                },
                                {
                                    "0": "South America",
                                    "1": "Cafés, Restaurants & Bars",
                                    "2": "1"
                                },
                                {
                                    "0": "Africa",
                                    "1": "Energy",
                                    "2": "1"
                                },
                                {
                                    "0": "Asia",
                                    "1": "Defense",
                                    "2": "1"
                                },
                                {
                                    "0": "Europe",
                                    "1": "Defense",
                                    "2": "1"
                                },
                                {
                                    "0": "South America",
                                    "1": "Defense",
                                    "2": "1"
                                },
                                {
                                    "0": "Africa",
                                    "1": "Manufacturing & Production",
                                    "2": "1"
                                },
                                {
                                    "0": "North America",
                                    "1": "Manufacturing & Production",
                                    "2": "1"
                                },
                                {
                                    "0": "North America",
                                    "1": "Food & Beverages",
                                    "2": "1"
                                },
                                {
                                    "0": "Africa",
                                    "1": "Food & Beverages",
                                    "2": "1"
                                }
                            ]
                        },
                        "text/html": [
                            "<table>",
                            "<tr><th>continent</th><th>category</th><th>n</th></tr>",
                            "<tr><td>Africa</td><td>Banking &amp; Finance</td><td>17</td></tr>",
                            "<tr><td>Europe</td><td>Distillers, Vintners, &amp; Breweries</td><td>12</td></tr>",
                            "<tr><td>Africa</td><td>Aviation &amp; Transport</td><td>10</td></tr>",
                            "<tr><td>Africa</td><td>Postal Service</td><td>9</td></tr>",
                            "<tr><td>Europe</td><td>Manufacturing &amp; Production</td><td>8</td></tr>",
                            "<tr><td>Asia</td><td>Aviation &amp; Transport</td><td>7</td></tr>",
                            "<tr><td>Asia</td><td>Banking &amp; Finance</td><td>6</td></tr>",
                            "<tr><td>Europe</td><td>Banking &amp; Finance</td><td>5</td></tr>",
                            "<tr><td>North America</td><td>Distillers, Vintners, &amp; Breweries</td><td>5</td></tr>",
                            "<tr><td>North America</td><td>Banking &amp; Finance</td><td>4</td></tr>",
                            "<tr><td>Africa</td><td>Media</td><td>4</td></tr>",
                            "<tr><td>Europe</td><td>Postal Service</td><td>4</td></tr>",
                            "<tr><td>Asia</td><td>Manufacturing &amp; Production</td><td>3</td></tr>",
                            "<tr><td>Asia</td><td>Retail</td><td>3</td></tr>",
                            "<tr><td>Africa</td><td>Agriculture</td><td>3</td></tr>",
                            "<tr><td>Asia</td><td>Conglomerate</td><td>3</td></tr>",
                            "<tr><td>South America</td><td>Banking &amp; Finance</td><td>3</td></tr>",
                            "<tr><td>Asia</td><td>Cafés, Restaurants &amp; Bars</td><td>3</td></tr>",
                            "<tr><td>Africa</td><td>Distillers, Vintners, &amp; Breweries</td><td>3</td></tr>",
                            "<tr><td>Europe</td><td>Consumer Goods</td><td>3</td></tr>",
                            "<tr><td>Asia</td><td>Energy</td><td>3</td></tr>",
                            "<tr><td>Asia</td><td>Food &amp; Beverages</td><td>2</td></tr>",
                            "<tr><td>South America</td><td>Food &amp; Beverages</td><td>2</td></tr>",
                            "<tr><td>Asia</td><td>Distillers, Vintners, &amp; Breweries</td><td>2</td></tr>",
                            "<tr><td>Europe</td><td>Cafés, Restaurants &amp; Bars</td><td>2</td></tr>",
                            "<tr><td>Asia</td><td>Construction</td><td>2</td></tr>",
                            "<tr><td>North America</td><td>Aviation &amp; Transport</td><td>2</td></tr>",
                            "<tr><td>Oceania</td><td>Banking &amp; Finance</td><td>2</td></tr>",
                            "<tr><td>South America</td><td>Manufacturing &amp; Production</td><td>2</td></tr>",
                            "<tr><td>Asia</td><td>Postal Service</td><td>2</td></tr>",
                            "<tr><td>Europe</td><td>Tourism &amp; Hotels</td><td>2</td></tr>",
                            "<tr><td>North America</td><td>Tourism &amp; Hotels</td><td>1</td></tr>",
                            "<tr><td>Oceania</td><td>Postal Service</td><td>1</td></tr>",
                            "<tr><td>North America</td><td>Retail</td><td>1</td></tr>",
                            "<tr><td>Asia</td><td>Telecommunications</td><td>1</td></tr>",
                            "<tr><td>Europe</td><td>Telecommunications</td><td>1</td></tr>",
                            "<tr><td>Asia</td><td>Tourism &amp; Hotels</td><td>1</td></tr>",
                            "<tr><td>Asia</td><td>Media</td><td>1</td></tr>",
                            "<tr><td>Europe</td><td>Media</td><td>1</td></tr>",
                            "<tr><td>North America</td><td>Media</td><td>1</td></tr>",
                            "<tr><td>Europe</td><td>Medical</td><td>1</td></tr>",
                            "<tr><td>Africa</td><td>Mining</td><td>1</td></tr>",
                            "<tr><td>Asia</td><td>Mining</td><td>1</td></tr>",
                            "<tr><td>Europe</td><td>Mining</td><td>1</td></tr>",
                            "<tr><td>Asia</td><td>Agriculture</td><td>1</td></tr>",
                            "<tr><td>Europe</td><td>Agriculture</td><td>1</td></tr>",
                            "<tr><td>North America</td><td>Agriculture</td><td>1</td></tr>",
                            "<tr><td>South America</td><td>Cafés, Restaurants &amp; Bars</td><td>1</td></tr>",
                            "<tr><td>Africa</td><td>Energy</td><td>1</td></tr>",
                            "<tr><td>Asia</td><td>Defense</td><td>1</td></tr>",
                            "<tr><td>Europe</td><td>Defense</td><td>1</td></tr>",
                            "<tr><td>South America</td><td>Defense</td><td>1</td></tr>",
                            "<tr><td>Africa</td><td>Manufacturing &amp; Production</td><td>1</td></tr>",
                            "<tr><td>North America</td><td>Manufacturing &amp; Production</td><td>1</td></tr>",
                            "<tr><td>North America</td><td>Food &amp; Beverages</td><td>1</td></tr>",
                            "<tr><td>Africa</td><td>Food &amp; Beverages</td><td>1</td></tr>",
                            "</table>"
                        ]
                    }
                }
            ],
            "execution_count": 27
        }
    ]
}